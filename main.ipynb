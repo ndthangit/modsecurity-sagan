{
 "cells": [
  {
   "metadata": {
    "ExecuteTime": {
     "end_time": "2025-03-20T09:13:36.235912Z",
     "start_time": "2025-03-20T09:13:36.232400Z"
    }
   },
   "cell_type": "code",
   "source": [
    "import re\n",
    "import os\n",
    "import shutil"
   ],
   "id": "c5e664821b54dc2f",
   "outputs": [],
   "execution_count": 217
  },
  {
   "metadata": {
    "ExecuteTime": {
     "end_time": "2025-03-20T09:13:36.258835Z",
     "start_time": "2025-03-20T09:13:36.255527Z"
    }
   },
   "cell_type": "code",
   "source": [
    "rule_content = {\n",
    "    \"pcre\": \"\",\n",
    "    \"msg\": \"\",\n",
    "    \"program\": \"\",\n",
    "    \"msg\": \"\",\n",
    "    \"classtype\": \"\",\n",
    "    \"sid\": \"\"\n",
    "}"
   ],
   "id": "4eca7e7eec7bfd32",
   "outputs": [],
   "execution_count": 218
  },
  {
   "metadata": {
    "ExecuteTime": {
     "end_time": "2025-03-20T09:13:36.273458Z",
     "start_time": "2025-03-20T09:13:36.267845Z"
    }
   },
   "cell_type": "code",
   "source": [
    "def normalize_modsec_conf(input_file, output_file):\n",
    "    with open(input_file, 'r', encoding='utf-8') as f:\n",
    "        lines = f.readlines()\n",
    "\n",
    "    # Loại bỏ tất cả comment (dòng bắt đầu bằng # hoặc chỉ chứa # ở đầu)\n",
    "    lines = [line for line in lines if not line.strip().startswith('#') and line.strip()]\n",
    "\n",
    "    # Gộp các dòng bị chia thành nhiều dòng\n",
    "    merged_lines = []\n",
    "    current_rule = \"\"\n",
    "    for line in lines:\n",
    "        stripped = line.strip()\n",
    "        if stripped.endswith(\"\\\\\"):\n",
    "            current_rule += stripped[:-1] + \" \"  # Loại bỏ dấu '\\' và thêm khoảng trắng\n",
    "        else:\n",
    "            current_rule += stripped\n",
    "            merged_lines.append(current_rule)\n",
    "            current_rule = \"\"\n",
    "\n",
    "    with open(output_file, 'w', encoding='utf-8') as f:\n",
    "        for line in merged_lines:\n",
    "            f.write(line + \"\\n\")\n",
    "\n",
    "# Sử dụng hàm\n",
    "# normalize_modsec_conf(input_path, output_path)"
   ],
   "id": "35724a5c67329184",
   "outputs": [],
   "execution_count": 219
  },
  {
   "metadata": {
    "ExecuteTime": {
     "end_time": "2025-03-20T09:13:36.295837Z",
     "start_time": "2025-03-20T09:13:36.288336Z"
    }
   },
   "cell_type": "code",
   "source": [
    "def generate_lt_regex(value):\n",
    "    digits = list(str(value))  # Split value into individual digits\n",
    "    # print(digits)\n",
    "    n = len(digits)  # Length of the number\n",
    "    # Khởi tạo regex\n",
    "    regex_parts = []\n",
    "\n",
    "    if n == 1:\n",
    "        return f\"^[0-{int(digits[0])-1}]$\"\n",
    "\n",
    "    # Trường hợp 1: Số có ít chữ số hơn n\n",
    "    if n > 1:\n",
    "        regex_parts.append(f\"^[0-9]{{1,{n-1}}}$\")\n",
    "\n",
    "    # Trường hợp 2: Số có đúng n chữ số nhưng nhỏ hơn value\n",
    "    for i in range(n):\n",
    "        if int(digits[i]) > 0:\n",
    "            prefix = \"\".join(digits[:i])\n",
    "            current_digit = int(digits[i])\n",
    "            if current_digit > 0:\n",
    "                if i == 0:\n",
    "                    if current_digit > 1:\n",
    "                        regex_parts.append(f\"^[{1 if n > 1 else 0}-{current_digit-1}][0-9]{{{n-1}}}$\")\n",
    "                    elif current_digit == 1 and n > 1:\n",
    "                        regex_parts.append(f\"^[0-9]{{{n-1}}}$\")\n",
    "                else:\n",
    "                    regex_parts.append(f\"^{prefix}[0-{current_digit-1}][0-9]{{{n-1-i}}}$\")\n",
    "    regex = \"|\".join(regex_parts)\n",
    "\n",
    "    return regex if regex else \"^$\"\n",
    "\n",
    "\n",
    "print(generate_lt_regex(123))\n",
    "print(generate_lt_regex(1))\n",
    "def generate_eq_regex(value, is_not=False):\n",
    "    \"\"\"Tạo regex cho phép toán = value\"\"\"\n",
    "    return f\"(^0*{value}$)\" if not is_not else f\"(^(?!0*{value}$).+)\"\n",
    "\n",
    "def generate_le_regex(value):\n",
    "    \"\"\"Tạo regex cho phép toán ≤ value\"\"\"\n",
    "    return generate_lt_regex(value + 1)\n",
    "\n",
    "print(generate_le_regex(123))\n",
    "\n",
    "def generate_ge_regex(value):\n",
    "    \"\"\"Tạo regex cho phép toán ≥ value (phủ định của < value)\"\"\"\n",
    "    return f\"^(?!({generate_lt_regex(value)})).*\"\n",
    "print(generate_ge_regex(123))\n",
    "def generate_gt_regex(value):\n",
    "    \"\"\"Tạo regex cho phép toán > value (phủ định của ≤ value)\"\"\"\n",
    "    leng=len(str(value))\n",
    "    return f\"(^(?!({generate_le_regex(value)})).*)\" +f\"|(^0*\"+ f\"[0-9]{{{leng+1},}}$)\"\n",
    "print(generate_gt_regex(123))\n"
   ],
   "id": "4a0e7273ada50a83",
   "outputs": [
    {
     "name": "stdout",
     "output_type": "stream",
     "text": [
      "^[0-9]{1,2}$|^[0-9]{2}$|^1[0-1][0-9]{1}$|^12[0-2][0-9]{0}$\n",
      "^[0-0]$\n",
      "^[0-9]{1,2}$|^[0-9]{2}$|^1[0-1][0-9]{1}$|^12[0-3][0-9]{0}$\n",
      "^(?!(^[0-9]{1,2}$|^[0-9]{2}$|^1[0-1][0-9]{1}$|^12[0-2][0-9]{0}$)).*\n",
      "(^(?!(^[0-9]{1,2}$|^[0-9]{2}$|^1[0-1][0-9]{1}$|^12[0-3][0-9]{0}$)).*)|(^0*[0-9]{4,}$)\n"
     ]
    }
   ],
   "execution_count": 220
  },
  {
   "metadata": {
    "ExecuteTime": {
     "end_time": "2025-03-20T09:13:36.322973Z",
     "start_time": "2025-03-20T09:13:36.316699Z"
    }
   },
   "cell_type": "code",
   "source": [
    "def convert_to_prce(component, is_not=False):\n",
    "    elements = component.split(\" \")\n",
    "    operator = elements[0]\n",
    "\n",
    "    # Hàm chuyển đổi giá trị thành số nguyên (nếu không được, trả về 0)\n",
    "    def to_int(value):\n",
    "        try:\n",
    "            return int(value)\n",
    "        except ValueError:\n",
    "            return 0\n",
    "    '''\n",
    "    test:\n",
    "    GET  hello world nGET\n",
    "    GETn  hello world GET\n",
    "    hello GET\n",
    "    hello nGET\n",
    "    hello .GET\n",
    "    hello GET.\n",
    "    '''\n",
    "    match operator:\n",
    "\n",
    "        case _ if operator.startswith(\"detect\"):\n",
    "            return None\n",
    "        case \"rx\":\n",
    "            return \" \".join(elements[1:])\n",
    "            # return component\n",
    "        case \"beginsWith\":\n",
    "            return f\"^{'(?!' if is_not else ''}{elements[1]}{')' if is_not else ''}.*\"\n",
    "        case \"endsWith\":\n",
    "            return f\"^(?!.*{elements[1]}$).+\" if is_not else f\".*{elements[1]}$\"\n",
    "        case \"contains\":\n",
    "            return f\"^(?!.*{elements[1]}).+\" if is_not else f\".*{elements[1]}.*\"\n",
    "        case \"containsWord\":\n",
    "            return f\"^(?!.*\\\\b{elements[1]}\\\\b).+\" if is_not else f\"\\\\b{elements[1]}\\\\b\"\n",
    "        case \"eq\":\n",
    "            value = to_int(elements[1])\n",
    "            # return f\"^({value})$\" if not is_not else f\"^(?!({value})$).+\"\n",
    "            return generate_eq_regex(value)\n",
    "        case \"ge\":\n",
    "            value = to_int(elements[1])\n",
    "            return generate_ge_regex(value)\n",
    "        case \"gt\":\n",
    "            value = to_int(elements[1])\n",
    "            return generate_gt_regex(value)\n",
    "        case \"le\":\n",
    "            value = to_int(elements[1])\n",
    "            return generate_le_regex(value)\n",
    "        case \"lt\":\n",
    "            value = to_int(elements[1])\n",
    "            return generate_lt_regex(value)"
   ],
   "id": "c9ffe6119c9a3e56",
   "outputs": [],
   "execution_count": 221
  },
  {
   "metadata": {
    "ExecuteTime": {
     "end_time": "2025-03-20T09:13:36.354272Z",
     "start_time": "2025-03-20T09:13:36.349132Z"
    }
   },
   "cell_type": "code",
   "source": [
    "def convert_rule(rule):\n",
    "\n",
    "    # keyword list content\n",
    "    # sid = re.search(r\"id:(\\d+),\", rule).group(1) if re.search(r\"id:(\\d+),\", rule).group(1) else None\n",
    "    #\n",
    "    # msg = re.search(r\"msg:'([^']+)'\", rule).group(1) if re.search(r\"msg:'([^']+)'\", rule) else None\n",
    "    sid_match = re.search(r\"id:(\\d+),\", rule)\n",
    "    sid = sid_match.group(1) if sid_match else None\n",
    "\n",
    "    msg_match = re.search(r\"msg:'([^']+)'\", rule)\n",
    "    msg = msg_match.group(1) if msg_match else None\n",
    "\n",
    "    operator = re.search(r\"@([^\\\"]+)\\\"\", rule)\n",
    "    if len(operator.group(1).split(\" \")) > 1:\n",
    "        pcre = convert_to_prce(operator.group(1))\n",
    "        program = \"\"\n",
    "        classtype = \"\"\n",
    "        # write rule sagan\n",
    "        sagan_rule= f\"alert any any any -> any any (msg:\\\"{msg}\\\"; pcre:\\\"{pcre}\\\"; normalize; program:{program}; threshold:type limit,track by_src,count 1,seconds 60; classtype:{classtype}; sid:{sid}; rev:1;)\"\n",
    "\n",
    "\n",
    "        return sagan_rule\n",
    "    else:\n",
    "        return None\n",
    "\n"
   ],
   "id": "5d32f0038820f4a9",
   "outputs": [],
   "execution_count": 222
  },
  {
   "metadata": {
    "ExecuteTime": {
     "end_time": "2025-03-20T09:13:36.384860Z",
     "start_time": "2025-03-20T09:13:36.378683Z"
    }
   },
   "cell_type": "code",
   "source": [
    "def convert_file(input_file_path, output_file_path):\n",
    "    # read input file\n",
    "    with open(input_file_path, 'r', encoding=\"utf-8\") as file:\n",
    "        lines = file.readlines()\n",
    "\n",
    "    # process each rule\n",
    "    for line in lines:\n",
    "        if line.startswith(\"SecRule\"):\n",
    "            sagan_rule = convert_rule(line)\n",
    "\n",
    "            # record the results\n",
    "            with open(output_file_path, 'a', encoding=\"utf-8\") as file:\n",
    "                file.write(f\"{sagan_rule}\\n\")\n",
    "\n",
    "    print(f\"Processed file: {input_file_path} -> Save to file: {output_file_path}\")\n",
    "\n",
    "def convert_mod_to_sagan(modsecurity_path,standardized_path, sagan_path):\n",
    "    # create sagan rules folder\n",
    "    if os.path.exists(standardized_path):\n",
    "        shutil.rmtree(standardized_path)\n",
    "    os.makedirs(standardized_path)\n",
    "\n",
    "    if os.path.exists(sagan_path):\n",
    "        shutil.rmtree(sagan_path)\n",
    "    os.makedirs(sagan_path)\n",
    "\n",
    "    for file in os.listdir(modsecurity_path):\n",
    "        input_file_path = os.path.join(modsecurity_path, file)\n",
    "        output_file_path = os.path.join(standardized_path, file)\n",
    "        normalize_modsec_conf(input_file_path, output_file_path)\n",
    "\n",
    "    # process each file\n",
    "    for filename in os.listdir(standardized_path):\n",
    "        # get input file and create output file.\n",
    "        input_file_path = os.path.join(standardized_path, filename)\n",
    "        file_name_without_extension = os.path.splitext(os.path.basename(filename))[0]\n",
    "        output_file_path = os.path.join(sagan_path, f\"sagan_{file_name_without_extension}.rules\")\n",
    "\n",
    "        # convert each file\n",
    "        convert_file(input_file_path, output_file_path)\n",
    "\n",
    "    print(\"Completed processing all files!\")\n"
   ],
   "id": "ad20e1f098638611",
   "outputs": [],
   "execution_count": 223
  },
  {
   "metadata": {
    "ExecuteTime": {
     "end_time": "2025-03-20T09:13:36.411246Z",
     "start_time": "2025-03-20T09:13:36.394756Z"
    }
   },
   "cell_type": "code",
   "source": [
    "def main():\n",
    "    path_data = \"data\"\n",
    "    sagan_path = \"result\"\n",
    "    standardized_path = \"standardized\"\n",
    "    convert_mod_to_sagan(path_data,standardized_path,sagan_path)\n",
    "\n",
    "if __name__ == \"__main__\":\n",
    "    main()"
   ],
   "id": "b3409539fd0ecda6",
   "outputs": [
    {
     "name": "stdout",
     "output_type": "stream",
     "text": [
      "Processed file: standardized\\REQUEST-942-APPLICATION-ATTACK-SQLI.conf -> Save to file: result\\sagan_REQUEST-942-APPLICATION-ATTACK-SQLI.rules\n",
      "Completed processing all files!\n"
     ]
    }
   ],
   "execution_count": 224
  },
  {
   "metadata": {
    "ExecuteTime": {
     "end_time": "2025-03-20T09:13:36.418937Z",
     "start_time": "2025-03-20T09:13:36.416254Z"
    }
   },
   "cell_type": "code",
   "source": "",
   "id": "576c9ba793a7ff63",
   "outputs": [],
   "execution_count": null
  }
 ],
 "metadata": {
  "kernelspec": {
   "display_name": "Python 3",
   "language": "python",
   "name": "python3"
  },
  "language_info": {
   "codemirror_mode": {
    "name": "ipython",
    "version": 2
   },
   "file_extension": ".py",
   "mimetype": "text/x-python",
   "name": "python",
   "nbconvert_exporter": "python",
   "pygments_lexer": "ipython2",
   "version": "2.7.6"
  }
 },
 "nbformat": 4,
 "nbformat_minor": 5
}
