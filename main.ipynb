{
 "cells": [
  {
   "metadata": {},
   "cell_type": "markdown",
   "source": [
    "# This is a sample Jupyter Notebook\n",
    "\n",
    "Below is an example of a code cell. \n",
    "Put your cursor into the cell and press Shift+Enter to execute it and select the next one, or click 'Run Cell' button.\n",
    "\n",
    "Press Double Shift to search everywhere for classes, files, tool windows, actions, and settings.\n",
    "\n",
    "To learn more about Jupyter Notebooks in PyCharm, see [help](https://www.jetbrains.com/help/pycharm/ipython-notebook-support.html).\n",
    "For an overview of PyCharm, go to Help -> Learn IDE features or refer to [our documentation](https://www.jetbrains.com/help/pycharm/getting-started.html)."
   ],
   "id": "8a77807f92f26ee"
  },
  {
   "metadata": {
    "ExecuteTime": {
     "end_time": "2025-03-18T04:08:11.314590Z",
     "start_time": "2025-03-18T04:08:11.311589Z"
    }
   },
   "cell_type": "code",
   "source": [
    "import re\n",
    "import os\n"
   ],
   "id": "c5e664821b54dc2f",
   "outputs": [],
   "execution_count": 132
  },
  {
   "metadata": {
    "ExecuteTime": {
     "end_time": "2025-03-18T04:17:04.292869Z",
     "start_time": "2025-03-18T04:17:04.286307Z"
    }
   },
   "cell_type": "code",
   "source": [
    "def generate_lt_regex(value):\n",
    "    digits = list(str(value))  # Split value into individual digits\n",
    "    print(digits)\n",
    "    n = len(digits)  # Length of the number\n",
    "    regex =\"\"\n",
    "    if int(digits[0]) > 1:\n",
    "        regex += f\"(^0*[1-{int(digits[0])-1}][0-9]{{{n-1}}}$)\"\n",
    "    else:\n",
    "        pass\n",
    "        regex +=f\"{value-1}\"\n",
    "        # for i in range(1, n-1):\n",
    "        #     regex += f\"(^0*1\" + \"\".join(digits[1:i]) + f\"[0-{int(digits[i])-1}][0-9]{{{n-1-i}}}$)|\"\n",
    "    for i in range(1, n):\n",
    "        regex += f\"|(^0*\" + \"\".join(digits[:i]) + f\"[0-{int(digits[i])-1}][0-9]{{{n-1-i}}}$)\"\n",
    "    regex += f\"|(^0*\"+ f\"[0-9]{{1,{n-1}}}$)\"\n",
    "\n",
    "    return regex\n",
    "\n",
    "\n",
    "print(generate_lt_regex(123))\n",
    "def generate_eq_regex(value, is_not=False):\n",
    "    \"\"\"Tạo regex cho phép toán = value\"\"\"\n",
    "    return f\"(^0*{value}$)\" if not is_not else f\"(^(?!0*{value}$).+)\"\n",
    "\n",
    "def generate_le_regex(value):\n",
    "    \"\"\"Tạo regex cho phép toán ≤ value\"\"\"\n",
    "    return generate_lt_regex(value + 1)\n",
    "\n",
    "print(generate_le_regex(123))\n",
    "\n",
    "def generate_ge_regex(value):\n",
    "    \"\"\"Tạo regex cho phép toán ≥ value (phủ định của < value)\"\"\"\n",
    "    return f\"^(?!({generate_lt_regex(value)})).*\"\n",
    "print(generate_ge_regex(123))\n",
    "def generate_gt_regex(value):\n",
    "    \"\"\"Tạo regex cho phép toán > value (phủ định của ≤ value)\"\"\"\n",
    "    leng=len(str(value))\n",
    "    return f\"(^(?!({generate_le_regex(value)})).*)\" +f\"|(^0*\"+ f\"[0-9]{{{leng+1},}}$)\"\n",
    "print(generate_gt_regex(123))\n"
   ],
   "id": "4a0e7273ada50a83",
   "outputs": [
    {
     "name": "stdout",
     "output_type": "stream",
     "text": [
      "['1', '2', '3']\n",
      "122|(^0*1[0-1][0-9]{1}$)|(^0*12[0-2][0-9]{0}$)|(^0*[0-9]{1,2}$)\n",
      "['1', '2', '4']\n",
      "123|(^0*1[0-1][0-9]{1}$)|(^0*12[0-3][0-9]{0}$)|(^0*[0-9]{1,2}$)\n",
      "['1', '2', '3']\n",
      "^(?!(122|(^0*1[0-1][0-9]{1}$)|(^0*12[0-2][0-9]{0}$)|(^0*[0-9]{1,2}$))).*\n",
      "['1', '2', '4']\n",
      "(^(?!(123|(^0*1[0-1][0-9]{1}$)|(^0*12[0-3][0-9]{0}$)|(^0*[0-9]{1,2}$))).*)|(^0*[0-9]{4,}$)\n"
     ]
    }
   ],
   "execution_count": 143
  },
  {
   "metadata": {
    "ExecuteTime": {
     "end_time": "2025-03-18T04:08:11.367925Z",
     "start_time": "2025-03-18T04:08:11.360197Z"
    }
   },
   "cell_type": "code",
   "source": [
    "def export_one_rule(component, is_not=False):\n",
    "    elements = component.split(\" \")\n",
    "    operator = elements[0]\n",
    "\n",
    "    # Hàm chuyển đổi giá trị thành số nguyên (nếu không được, trả về 0)\n",
    "    def to_int(value):\n",
    "        try:\n",
    "            return int(value)\n",
    "        except ValueError:\n",
    "            return 0\n",
    "    '''\n",
    "    test:\n",
    "    GET  hello world nGET\n",
    "    GETn  hello world GET\n",
    "    hello GET\n",
    "    hello nGET\n",
    "    hello .GET\n",
    "    hello GET.\n",
    "    '''\n",
    "    match operator:\n",
    "\n",
    "        case _ if operator.startswith(\"detect\"):\n",
    "            return None\n",
    "        case \"rx\":\n",
    "            return \" \".join(elements[1:])\n",
    "        case \"beginsWith\":\n",
    "            return f\"^{'(?!' if is_not else ''}{elements[1]}{')' if is_not else ''}.*\"\n",
    "        case \"endsWith\":\n",
    "            return f\"^(?!.*{elements[1]}$).+\" if is_not else f\".*{elements[1]}$\"\n",
    "        case \"contains\":\n",
    "            return f\"^(?!.*{elements[1]}).+\" if is_not else f\".*{elements[1]}.*\"\n",
    "        case \"containsWord\":\n",
    "            return f\"^(?!.*\\\\b{elements[1]}\\\\b).+\" if is_not else f\"\\\\b{elements[1]}\\\\b\"\n",
    "        case \"eq\":\n",
    "            value = to_int(elements[1])\n",
    "            # return f\"^({value})$\" if not is_not else f\"^(?!({value})$).+\"\n",
    "            return generate_eq_regex(value)\n",
    "        case \"ge\":\n",
    "            value = to_int(elements[1])\n",
    "            return generate_ge_regex(value)\n",
    "        case \"gt\":\n",
    "            value = to_int(elements[1])\n",
    "            return generate_gt_regex(value)\n",
    "        case \"le\":\n",
    "            value = to_int(elements[1])\n",
    "            return generate_le_regex(value)\n",
    "        case \"lt\":\n",
    "            value = to_int(elements[1])\n",
    "            return generate_lt_regex(value)\n",
    "\n",
    "def export_rule(mainRule):\n",
    "    components = mainRule.split(\"@\")\n",
    "    main_sagan_rule = \"\"\n",
    "    is_not = False\n",
    "    for component in components:\n",
    "        if component ==\"!\":\n",
    "            is_not = True\n",
    "        else:\n",
    "            if export_one_rule(component,is_not):\n",
    "                main_sagan_rule += export_one_rule(component,is_not)\n",
    "                is_not = False\n",
    "    sagan_rule= \"alert any $EXTERNAL_NET any -> $HOME_NET any ( pcre: \\\"/\" + main_sagan_rule + \"/\\\")\"\n",
    "    return sagan_rule\n"
   ],
   "id": "c9ffe6119c9a3e56",
   "outputs": [],
   "execution_count": 134
  },
  {
   "metadata": {
    "ExecuteTime": {
     "end_time": "2025-03-18T04:08:11.418314Z",
     "start_time": "2025-03-18T04:08:11.413706Z"
    }
   },
   "cell_type": "code",
   "source": [
    "def extract_section(rule):\n",
    "    first_quote = rule.find('\"')\n",
    "    if first_quote == -1:\n",
    "        return None\n",
    "    last_quote = rule.rfind('\"')\n",
    "    if last_quote == -1 or last_quote <= first_quote:\n",
    "        return None\n",
    "    return rule[first_quote + 1:last_quote]\n",
    "\n",
    "def extract_id(line):\n",
    "    match = re.search(r\"id:(\\d+)\", line)\n",
    "    return match.group(1) if match else None\n"
   ],
   "id": "5d32f0038820f4a9",
   "outputs": [],
   "execution_count": 135
  },
  {
   "metadata": {
    "ExecuteTime": {
     "end_time": "2025-03-18T04:08:11.448388Z",
     "start_time": "2025-03-18T04:08:11.443339Z"
    }
   },
   "cell_type": "code",
   "source": [
    "def convert_file(input_file_path, output_file_path):\n",
    "    \"\"\" Xử lý từng file rule và ghi kết quả ra file tương ứng \"\"\"\n",
    "    main_rules_dict = {}\n",
    "\n",
    "    # Đọc file đầu vào\n",
    "    with open(input_file_path, 'r', encoding=\"utf-8\") as file:\n",
    "        lines = file.readlines()\n",
    "\n",
    "    i = 0\n",
    "    while i < len(lines):\n",
    "        if lines[i].startswith(\"SecRule\"):  # Nếu là rule\n",
    "            rule = lines[i].strip()  # Lưu rule chính\n",
    "            # Kiểm tra xem dòng tiếp theo có chứa 'id:' không\n",
    "            if i + 1 < len(lines) and \"id:\" in lines[i + 1]:\n",
    "\n",
    "                rule_id = extract_id(lines[i + 1])  # Lấy ID\n",
    "                if rule_id:\n",
    "                    main_rules_dict[rule_id] = extract_section(rule)  # Lưu vào dict\n",
    "            i += 1  # Nhảy qua dòng tiếp theo (id:)\n",
    "        i += 1  # Chuyển sang dòng kế tiếp\n",
    "\n",
    "    # Ghi kết quả vào file mới\n",
    "    with open(output_file_path, 'w', encoding=\"utf-8\") as file:\n",
    "        for rule_id, rule in main_rules_dict.items():\n",
    "            if rule:\n",
    "                sagan_rule = export_rule(rule)\n",
    "                file.write(f\"{rule_id}: {sagan_rule}\\n\")\n",
    "\n",
    "    print(f\"✅ Đã xử lý: {input_file_path} -> Lưu vào {output_file_path}\")"
   ],
   "id": "ad20e1f098638611",
   "outputs": [],
   "execution_count": 136
  },
  {
   "metadata": {
    "ExecuteTime": {
     "end_time": "2025-03-18T04:08:11.462794Z",
     "start_time": "2025-03-18T04:08:11.458095Z"
    }
   },
   "cell_type": "code",
   "source": [
    "def convert_mod_to_sagan(path, sagan_path):\n",
    "    \"\"\" Đọc toàn bộ file trong thư mục path và xử lý từng file \"\"\"\n",
    "    # Đảm bảo thư mục kết quả tồn tại\n",
    "    os.makedirs(sagan_path, exist_ok=True)\n",
    "\n",
    "    for root, _, files in os.walk(path):\n",
    "        for filename in files:\n",
    "            input_file_path = os.path.join(root, filename)\n",
    "\n",
    "            # Tạo đường dẫn thư mục tương ứng trong thư mục sagan_path\n",
    "            relative_path = os.path.relpath(root, path)  # Đường dẫn tương đối\n",
    "            output_dir = os.path.join(sagan_path, relative_path)\n",
    "            os.makedirs(output_dir, exist_ok=True)\n",
    "\n",
    "            # Tạo tên file kết quả\n",
    "            output_file_path = os.path.join(output_dir, f\"result_{filename}.txt\")\n",
    "\n",
    "            # Gọi hàm convert_file để xử lý file\n",
    "            convert_file(input_file_path, output_file_path)\n",
    "\n",
    "    print(\"✅ Completed processing all files!\")\n"
   ],
   "id": "6171f9be5c6f39de",
   "outputs": [],
   "execution_count": 137
  },
  {
   "metadata": {
    "ExecuteTime": {
     "end_time": "2025-03-18T04:08:11.475507Z",
     "start_time": "2025-03-18T04:08:11.469774Z"
    }
   },
   "cell_type": "code",
   "source": [
    "def main():\n",
    "    path_data = \"data\"\n",
    "    sagan_path = \"result\"\n",
    "    convert_mod_to_sagan(path_data,sagan_path)\n",
    "\n",
    "if __name__ == \"__main__\":\n",
    "    main()"
   ],
   "id": "b3409539fd0ecda6",
   "outputs": [
    {
     "name": "stdout",
     "output_type": "stream",
     "text": [
      "['0']\n",
      "['0']\n",
      "['0']\n",
      "['0']\n",
      "['0']\n",
      "['0']\n",
      "['0']\n",
      "['0']\n",
      "✅ Đã xử lý: data\\REQUEST-942-APPLICATION-ATTACK-SQLI.conf -> Lưu vào result\\.\\result_REQUEST-942-APPLICATION-ATTACK-SQLI.conf.txt\n",
      "✅ Completed processing all files!\n"
     ]
    }
   ],
   "execution_count": 138
  },
  {
   "metadata": {
    "ExecuteTime": {
     "end_time": "2025-03-18T04:08:11.487215Z",
     "start_time": "2025-03-18T04:08:11.485086Z"
    }
   },
   "cell_type": "code",
   "source": "",
   "id": "576c9ba793a7ff63",
   "outputs": [],
   "execution_count": null
  }
 ],
 "metadata": {
  "kernelspec": {
   "display_name": "Python 3",
   "language": "python",
   "name": "python3"
  },
  "language_info": {
   "codemirror_mode": {
    "name": "ipython",
    "version": 2
   },
   "file_extension": ".py",
   "mimetype": "text/x-python",
   "name": "python",
   "nbconvert_exporter": "python",
   "pygments_lexer": "ipython2",
   "version": "2.7.6"
  }
 },
 "nbformat": 4,
 "nbformat_minor": 5
}
